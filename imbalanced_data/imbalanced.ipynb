{
 "cells": [
  {
   "cell_type": "code",
   "execution_count": 2,
   "id": "c4a4592d-ba5c-4693-96c4-b47f0c25bfdb",
   "metadata": {},
   "outputs": [],
   "source": [
    "import csv\n",
    "import numpy as np\n",
    "import os\n",
    "import keras\n",
    "from sklearn.metrics import classification_report\n",
    "from sklearn.model_selection import train_test_split\n",
    "import tensorflow as tf\n",
    "import matplotlib.pyplot as plt\n",
    "from sklearn import metrics"
   ]
  },
  {
   "cell_type": "code",
   "execution_count": 3,
   "id": "fd61b514-e9a8-4d0d-912e-cf5440c30ad1",
   "metadata": {},
   "outputs": [],
   "source": [
    "base_dir = 'creditcard.csv'"
   ]
  },
  {
   "cell_type": "code",
   "execution_count": 4,
   "id": "2fe70958-5d22-4431-82ec-afb7c646f6be",
   "metadata": {},
   "outputs": [
    {
     "name": "stdout",
     "output_type": "stream",
     "text": [
      "features.shape: (284807, 30)\n",
      "targets.shape: (284807, 1)\n"
     ]
    }
   ],
   "source": [
    "all_features = []\n",
    "all_targets = []\n",
    "\n",
    "with open(base_dir) as d:\n",
    "    for i , line in enumerate(d):\n",
    "        if i == 0:\n",
    "            continue\n",
    "\n",
    "        fields = line.strip().split(\",\")\n",
    "        all_features.append([float(v.replace('\"', \"\")) for v in fields[:-1]])\n",
    "        all_targets.append([int(fields[-1].replace('\"', \"\"))])\n",
    "\n",
    "features = np.array(all_features, dtype=\"float32\")\n",
    "targets = np.array(all_targets, dtype=\"uint8\")\n",
    "print(\"features.shape:\", features.shape)\n",
    "print(\"targets.shape:\", targets.shape)"
   ]
  },
  {
   "cell_type": "code",
   "execution_count": 4,
   "id": "6d3fd07c-37dd-4166-859f-1f0a314499d1",
   "metadata": {},
   "outputs": [],
   "source": [
    "train_features ,test_features ,train_targets ,test_targets = train_test_split(features ,\n",
    "                                                                            targets , test_size=0.2 , random_state=42)\n",
    "test_features ,val_features ,test_targets ,val_targets = train_test_split(test_features ,\n",
    "                                                                              test_targets , test_size=0.5 , random_state=42)"
   ]
  },
  {
   "cell_type": "code",
   "execution_count": 5,
   "id": "d64dcf2d-1272-4815-aa64-ebba51aa947d",
   "metadata": {},
   "outputs": [
    {
     "name": "stdout",
     "output_type": "stream",
     "text": [
      "Number of training samples: 227845\n",
      "Number of validation samples: 28481\n",
      "Number of test samples: 28481\n"
     ]
    }
   ],
   "source": [
    "print(\"Number of training samples:\", len(train_features))\n",
    "print(\"Number of validation samples:\", len(val_features))\n",
    "print(\"Number of test samples:\", len(test_features))"
   ]
  },
  {
   "cell_type": "code",
   "execution_count": 6,
   "id": "ad5ddd3f-097b-47db-8925-1c5ed6097b52",
   "metadata": {},
   "outputs": [
    {
     "name": "stdout",
     "output_type": "stream",
     "text": [
      "Number of positive samples in training data: 394 (0.17% of total)\n"
     ]
    }
   ],
   "source": [
    "counts = np.bincount(train_targets[:, 0])\n",
    "print(\n",
    "    \"Number of positive samples in training data: {} ({:.2f}% of total)\".format(\n",
    "        counts[1], 100 * float(counts[1]) / len(train_targets)\n",
    "    )\n",
    ")\n",
    "\n",
    "weight_for_0 = 1.0 / counts[0]\n",
    "weight_for_1 = 1.0 / counts[1]"
   ]
  },
  {
   "cell_type": "code",
   "execution_count": 7,
   "id": "9bd6e3f2-dabf-4984-8d71-a126c8f0d1c5",
   "metadata": {},
   "outputs": [],
   "source": [
    "train_features = train_features.astype('float32')\n",
    "train_targets = train_targets.astype('float32')\n",
    "val_features = val_features.astype('float32')\n",
    "val_targets = val_targets.astype('float32')\n",
    "test_features = test_features.astype('float32')\n",
    "test_targets = test_targets.astype('float32')"
   ]
  },
  {
   "cell_type": "code",
   "execution_count": 8,
   "id": "4dba98d9-7839-43df-bf6a-9aadff9a9c6a",
   "metadata": {},
   "outputs": [
    {
     "name": "stderr",
     "output_type": "stream",
     "text": [
      "2024-05-10 12:00:21.268364: I external/local_xla/xla/stream_executor/cuda/cuda_executor.cc:901] successful NUMA node read from SysFS had negative value (-1), but there must be at least one NUMA node, so returning NUMA node zero. See more at https://github.com/torvalds/linux/blob/v6.0/Documentation/ABI/testing/sysfs-bus-pci#L344-L355\n",
      "2024-05-10 12:00:21.286560: I external/local_xla/xla/stream_executor/cuda/cuda_executor.cc:901] successful NUMA node read from SysFS had negative value (-1), but there must be at least one NUMA node, so returning NUMA node zero. See more at https://github.com/torvalds/linux/blob/v6.0/Documentation/ABI/testing/sysfs-bus-pci#L344-L355\n",
      "2024-05-10 12:00:21.286794: I external/local_xla/xla/stream_executor/cuda/cuda_executor.cc:901] successful NUMA node read from SysFS had negative value (-1), but there must be at least one NUMA node, so returning NUMA node zero. See more at https://github.com/torvalds/linux/blob/v6.0/Documentation/ABI/testing/sysfs-bus-pci#L344-L355\n",
      "2024-05-10 12:00:21.288981: I external/local_xla/xla/stream_executor/cuda/cuda_executor.cc:901] successful NUMA node read from SysFS had negative value (-1), but there must be at least one NUMA node, so returning NUMA node zero. See more at https://github.com/torvalds/linux/blob/v6.0/Documentation/ABI/testing/sysfs-bus-pci#L344-L355\n",
      "2024-05-10 12:00:21.289140: I external/local_xla/xla/stream_executor/cuda/cuda_executor.cc:901] successful NUMA node read from SysFS had negative value (-1), but there must be at least one NUMA node, so returning NUMA node zero. See more at https://github.com/torvalds/linux/blob/v6.0/Documentation/ABI/testing/sysfs-bus-pci#L344-L355\n",
      "2024-05-10 12:00:21.289225: I external/local_xla/xla/stream_executor/cuda/cuda_executor.cc:901] successful NUMA node read from SysFS had negative value (-1), but there must be at least one NUMA node, so returning NUMA node zero. See more at https://github.com/torvalds/linux/blob/v6.0/Documentation/ABI/testing/sysfs-bus-pci#L344-L355\n",
      "2024-05-10 12:00:21.333272: I external/local_xla/xla/stream_executor/cuda/cuda_executor.cc:901] successful NUMA node read from SysFS had negative value (-1), but there must be at least one NUMA node, so returning NUMA node zero. See more at https://github.com/torvalds/linux/blob/v6.0/Documentation/ABI/testing/sysfs-bus-pci#L344-L355\n",
      "2024-05-10 12:00:21.333468: I external/local_xla/xla/stream_executor/cuda/cuda_executor.cc:901] successful NUMA node read from SysFS had negative value (-1), but there must be at least one NUMA node, so returning NUMA node zero. See more at https://github.com/torvalds/linux/blob/v6.0/Documentation/ABI/testing/sysfs-bus-pci#L344-L355\n",
      "2024-05-10 12:00:21.333582: I external/local_xla/xla/stream_executor/cuda/cuda_executor.cc:901] successful NUMA node read from SysFS had negative value (-1), but there must be at least one NUMA node, so returning NUMA node zero. See more at https://github.com/torvalds/linux/blob/v6.0/Documentation/ABI/testing/sysfs-bus-pci#L344-L355\n",
      "2024-05-10 12:00:21.333661: I tensorflow/core/common_runtime/gpu/gpu_device.cc:1929] Created device /job:localhost/replica:0/task:0/device:GPU:0 with 1730 MB memory:  -> device: 0, name: NVIDIA GeForce MX330, pci bus id: 0000:01:00.0, compute capability: 6.1\n"
     ]
    }
   ],
   "source": [
    "train_targets = tf.one_hot(train_targets , depth=2)\n",
    "val_targets = tf.one_hot(val_targets , depth=2)\n",
    "test_targets = tf.one_hot(test_targets , depth=2)\n"
   ]
  },
  {
   "cell_type": "code",
   "execution_count": 9,
   "id": "552971cb-6dc3-4da8-aa18-83aa04489085",
   "metadata": {},
   "outputs": [],
   "source": [
    "train_targets = tf.squeeze(train_targets)\n",
    "val_targets = tf.squeeze(val_targets)\n",
    "test_targets = tf.squeeze(test_targets)"
   ]
  },
  {
   "cell_type": "code",
   "execution_count": 10,
   "id": "65813bde-16d4-4fcc-9ee5-c12abe328118",
   "metadata": {},
   "outputs": [],
   "source": [
    "mean = np.mean(train_features, axis=0)\n",
    "train_features -= mean\n",
    "val_features -= mean\n",
    "test_features -= mean\n",
    "std = np.std(train_features, axis=0)\n",
    "train_features /= std\n",
    "val_features /= std\n",
    "test_features /= std\n"
   ]
  },
  {
   "cell_type": "code",
   "execution_count": 11,
   "id": "7643c435-85f8-489b-baf8-ed049908eac6",
   "metadata": {},
   "outputs": [
    {
     "name": "stdout",
     "output_type": "stream",
     "text": [
      "Model: \"sequential\"\n",
      "_________________________________________________________________\n",
      " Layer (type)                Output Shape              Param #   \n",
      "=================================================================\n",
      " dense (Dense)               (None, 256)               7936      \n",
      "                                                                 \n",
      " dropout (Dropout)           (None, 256)               0         \n",
      "                                                                 \n",
      " dense_1 (Dense)             (None, 256)               65792     \n",
      "                                                                 \n",
      " dropout_1 (Dropout)         (None, 256)               0         \n",
      "                                                                 \n",
      " dense_2 (Dense)             (None, 2)                 514       \n",
      "                                                                 \n",
      "=================================================================\n",
      "Total params: 74242 (290.01 KB)\n",
      "Trainable params: 74242 (290.01 KB)\n",
      "Non-trainable params: 0 (0.00 Byte)\n",
      "_________________________________________________________________\n"
     ]
    }
   ],
   "source": [
    "model_weight = keras.Sequential(\n",
    "    [\n",
    "        keras.Input(shape=train_features.shape[1:]),\n",
    "        keras.layers.Dense(256, activation=\"relu\"),\n",
    "        keras.layers.Dropout(0.3),\n",
    "        keras.layers.Dense(256, activation=\"relu\"),\n",
    "        keras.layers.Dropout(0.3),\n",
    "        keras.layers.Dense(2),\n",
    "    ]\n",
    ")\n",
    "model_weight.summary()"
   ]
  },
  {
   "cell_type": "code",
   "execution_count": 12,
   "id": "875135e0-55bd-4662-923c-272a1838ee5f",
   "metadata": {},
   "outputs": [
    {
     "name": "stdout",
     "output_type": "stream",
     "text": [
      "Model: \"sequential_1\"\n",
      "_________________________________________________________________\n",
      " Layer (type)                Output Shape              Param #   \n",
      "=================================================================\n",
      " dense_3 (Dense)             (None, 256)               7936      \n",
      "                                                                 \n",
      " dropout_2 (Dropout)         (None, 256)               0         \n",
      "                                                                 \n",
      " dense_4 (Dense)             (None, 256)               65792     \n",
      "                                                                 \n",
      " dropout_3 (Dropout)         (None, 256)               0         \n",
      "                                                                 \n",
      " dense_5 (Dense)             (None, 2)                 514       \n",
      "                                                                 \n",
      "=================================================================\n",
      "Total params: 74242 (290.01 KB)\n",
      "Trainable params: 74242 (290.01 KB)\n",
      "Non-trainable params: 0 (0.00 Byte)\n",
      "_________________________________________________________________\n"
     ]
    }
   ],
   "source": [
    "model = keras.Sequential(\n",
    "    [\n",
    "        keras.Input(shape=train_features.shape[1:]),\n",
    "        keras.layers.Dense(256, activation=\"relu\"),\n",
    "        keras.layers.Dropout(0.3),\n",
    "        keras.layers.Dense(256, activation=\"relu\"),\n",
    "        keras.layers.Dropout(0.3),\n",
    "        keras.layers.Dense(2),\n",
    "    ]\n",
    ")\n",
    "model.summary()"
   ]
  },
  {
   "cell_type": "code",
   "execution_count": 13,
   "id": "58a38e50-f5a9-4b7f-b815-0ad2d508e04e",
   "metadata": {},
   "outputs": [],
   "source": [
    "metrics1 = [\n",
    "    keras.metrics.F1Score(name=\"f1_score\"),\n",
    "]"
   ]
  },
  {
   "cell_type": "code",
   "execution_count": 14,
   "id": "bca4ad61-9efd-4d3d-94c8-5a85ca05f4e1",
   "metadata": {},
   "outputs": [],
   "source": [
    "model_weight.compile(\n",
    "        optimizer=keras.optimizers.Adam(1e-3), loss=tf.losses.CategoricalCrossentropy(from_logits=True), metrics=metrics1 , \n",
    ")\n",
    "\n",
    "class_weight = {0: weight_for_0, 1: weight_for_1}\n"
   ]
  },
  {
   "cell_type": "code",
   "execution_count": 15,
   "id": "a2405cfb-1815-4c7f-9c67-48876b9a57a2",
   "metadata": {},
   "outputs": [
    {
     "data": {
      "text/plain": [
       "{0: 4.396551345124884e-06, 1: 0.0025380710659898475}"
      ]
     },
     "execution_count": 15,
     "metadata": {},
     "output_type": "execute_result"
    }
   ],
   "source": [
    "class_weight"
   ]
  },
  {
   "cell_type": "code",
   "execution_count": 16,
   "id": "4d0f614f-cdac-48d9-baa8-415ff076d1d6",
   "metadata": {},
   "outputs": [
    {
     "name": "stdout",
     "output_type": "stream",
     "text": [
      "Epoch 1/10\n"
     ]
    },
    {
     "name": "stderr",
     "output_type": "stream",
     "text": [
      "2024-05-10 12:00:22.053764: I external/local_tsl/tsl/platform/default/subprocess.cc:304] Start cannot spawn child process: No such file or directory\n",
      "2024-05-10 12:00:22.767229: I external/local_xla/xla/service/service.cc:168] XLA service 0x7fe3589bf120 initialized for platform CUDA (this does not guarantee that XLA will be used). Devices:\n",
      "2024-05-10 12:00:22.767259: I external/local_xla/xla/service/service.cc:176]   StreamExecutor device (0): NVIDIA GeForce MX330, Compute Capability 6.1\n",
      "2024-05-10 12:00:22.771969: I tensorflow/compiler/mlir/tensorflow/utils/dump_mlir_util.cc:269] disabling MLIR crash reproducer, set env var `MLIR_CRASH_REPRODUCER_DIRECTORY` to enable.\n",
      "2024-05-10 12:00:22.783461: I external/local_xla/xla/stream_executor/cuda/cuda_dnn.cc:454] Loaded cuDNN version 8904\n",
      "WARNING: All log messages before absl::InitializeLog() is called are written to STDERR\n",
      "I0000 00:00:1715356822.840964    4564 device_compiler.h:186] Compiled cluster using XLA!  This line is logged at most once for the lifetime of the process.\n"
     ]
    },
    {
     "name": "stdout",
     "output_type": "stream",
     "text": [
      "112/112 - 2s - loss: 3.5676e-06 - f1_score: 0.4308 - val_loss: 0.2500 - val_f1_score: 0.6091 - 2s/epoch - 20ms/step\n",
      "Epoch 2/10\n",
      "112/112 - 1s - loss: 1.8825e-06 - f1_score: 0.5596 - val_loss: 0.1821 - val_f1_score: 0.5481 - 566ms/epoch - 5ms/step\n",
      "Epoch 3/10\n",
      "112/112 - 1s - loss: 1.5664e-06 - f1_score: 0.5433 - val_loss: 0.1968 - val_f1_score: 0.5206 - 572ms/epoch - 5ms/step\n",
      "Epoch 4/10\n",
      "112/112 - 1s - loss: 1.3823e-06 - f1_score: 0.5447 - val_loss: 0.1406 - val_f1_score: 0.5327 - 579ms/epoch - 5ms/step\n",
      "Epoch 5/10\n",
      "112/112 - 1s - loss: 1.3824e-06 - f1_score: 0.5409 - val_loss: 0.0861 - val_f1_score: 0.5727 - 580ms/epoch - 5ms/step\n",
      "Epoch 6/10\n",
      "112/112 - 1s - loss: 1.1649e-06 - f1_score: 0.5629 - val_loss: 0.1364 - val_f1_score: 0.5238 - 576ms/epoch - 5ms/step\n",
      "Epoch 7/10\n",
      "112/112 - 1s - loss: 1.1917e-06 - f1_score: 0.5478 - val_loss: 0.1332 - val_f1_score: 0.5215 - 579ms/epoch - 5ms/step\n",
      "Epoch 8/10\n",
      "112/112 - 1s - loss: 1.0593e-06 - f1_score: 0.5479 - val_loss: 0.0912 - val_f1_score: 0.5461 - 575ms/epoch - 5ms/step\n",
      "Epoch 9/10\n",
      "112/112 - 1s - loss: 1.0098e-06 - f1_score: 0.5560 - val_loss: 0.1071 - val_f1_score: 0.5301 - 574ms/epoch - 5ms/step\n",
      "Epoch 10/10\n",
      "112/112 - 1s - loss: 9.8958e-07 - f1_score: 0.5466 - val_loss: 0.1396 - val_f1_score: 0.5173 - 568ms/epoch - 5ms/step\n"
     ]
    },
    {
     "data": {
      "text/plain": [
       "<keras.src.callbacks.History at 0x7fe423bdff50>"
      ]
     },
     "execution_count": 16,
     "metadata": {},
     "output_type": "execute_result"
    }
   ],
   "source": [
    "model_weight.fit(\n",
    "    train_features,\n",
    "    train_targets,\n",
    "    batch_size=2048,\n",
    "    epochs=10,\n",
    "    verbose=2,\n",
    "    validation_data=(val_features, val_targets),\n",
    "    class_weight=class_weight\n",
    ")"
   ]
  },
  {
   "cell_type": "code",
   "execution_count": 17,
   "id": "499860d9-9fd7-4f28-8d33-15fee2b9a98d",
   "metadata": {},
   "outputs": [],
   "source": [
    "model.compile(\n",
    "    optimizer=keras.optimizers.Adam(1e-3), loss=tf.losses.CategoricalCrossentropy(from_logits=True), metrics=metrics1\n",
    ")"
   ]
  },
  {
   "cell_type": "code",
   "execution_count": 18,
   "id": "e4c51054-2923-4dac-b278-535e046d40cf",
   "metadata": {},
   "outputs": [
    {
     "name": "stdout",
     "output_type": "stream",
     "text": [
      "Epoch 1/10\n",
      "112/112 - 1s - loss: 0.0350 - f1_score: 0.5426 - val_loss: 0.0049 - val_f1_score: 0.8814 - 1s/epoch - 11ms/step\n",
      "Epoch 2/10\n",
      "112/112 - 1s - loss: 0.0046 - f1_score: 0.8847 - val_loss: 0.0033 - val_f1_score: 0.9095 - 569ms/epoch - 5ms/step\n",
      "Epoch 3/10\n",
      "112/112 - 1s - loss: 0.0038 - f1_score: 0.9037 - val_loss: 0.0030 - val_f1_score: 0.9249 - 569ms/epoch - 5ms/step\n",
      "Epoch 4/10\n",
      "112/112 - 1s - loss: 0.0033 - f1_score: 0.9075 - val_loss: 0.0030 - val_f1_score: 0.9101 - 592ms/epoch - 5ms/step\n",
      "Epoch 5/10\n",
      "112/112 - 1s - loss: 0.0031 - f1_score: 0.9058 - val_loss: 0.0030 - val_f1_score: 0.8946 - 573ms/epoch - 5ms/step\n",
      "Epoch 6/10\n",
      "112/112 - 1s - loss: 0.0029 - f1_score: 0.9100 - val_loss: 0.0031 - val_f1_score: 0.8865 - 566ms/epoch - 5ms/step\n",
      "Epoch 7/10\n",
      "112/112 - 1s - loss: 0.0028 - f1_score: 0.9117 - val_loss: 0.0029 - val_f1_score: 0.9145 - 567ms/epoch - 5ms/step\n",
      "Epoch 8/10\n",
      "112/112 - 1s - loss: 0.0027 - f1_score: 0.9110 - val_loss: 0.0029 - val_f1_score: 0.9196 - 571ms/epoch - 5ms/step\n",
      "Epoch 9/10\n",
      "112/112 - 1s - loss: 0.0026 - f1_score: 0.9200 - val_loss: 0.0028 - val_f1_score: 0.9196 - 572ms/epoch - 5ms/step\n",
      "Epoch 10/10\n",
      "112/112 - 1s - loss: 0.0024 - f1_score: 0.9177 - val_loss: 0.0028 - val_f1_score: 0.9249 - 580ms/epoch - 5ms/step\n"
     ]
    },
    {
     "data": {
      "text/plain": [
       "<keras.src.callbacks.History at 0x7fe42120b890>"
      ]
     },
     "execution_count": 18,
     "metadata": {},
     "output_type": "execute_result"
    }
   ],
   "source": [
    "model.fit(\n",
    "    train_features,\n",
    "    train_targets,\n",
    "    batch_size=2048,\n",
    "    epochs=10,\n",
    "    verbose=2,\n",
    "    validation_data=(val_features, val_targets),\n",
    ")"
   ]
  },
  {
   "cell_type": "code",
   "execution_count": 19,
   "id": "f5a2aee5-f04a-4450-9f90-3ab4ffbd090c",
   "metadata": {},
   "outputs": [],
   "source": [
    "test_targets = np.argmax(test_targets, axis= 1)"
   ]
  },
  {
   "cell_type": "code",
   "execution_count": 20,
   "id": "85811637-1ef2-47c8-855d-627123aca9bc",
   "metadata": {},
   "outputs": [
    {
     "name": "stdout",
     "output_type": "stream",
     "text": [
      "446/446 [==============================] - 0s 548us/step\n",
      "              precision    recall  f1-score   support\n",
      "\n",
      "           0       1.00      0.96      0.98     28426\n",
      "           1       0.04      0.96      0.08        55\n",
      "\n",
      "    accuracy                           0.96     28481\n",
      "   macro avg       0.52      0.96      0.53     28481\n",
      "weighted avg       1.00      0.96      0.98     28481\n",
      "\n"
     ]
    }
   ],
   "source": [
    "y_pred = model_weight.predict(test_features, batch_size=64, verbose=1)\n",
    "y_pred_bool = np.argmax(y_pred, axis= 1)\n",
    "\n",
    "print(classification_report(test_targets, y_pred_bool))"
   ]
  },
  {
   "cell_type": "code",
   "execution_count": 21,
   "id": "f7cf7362-6314-44fe-8687-94fea3c5ce56",
   "metadata": {},
   "outputs": [
    {
     "data": {
      "image/png": "[encoded data removed]",
      "text/plain": [
       "<Figure size 640x480 with 2 Axes>"
      ]
     },
     "metadata": {},
     "output_type": "display_data"
    }
   ],
   "source": [
    "confusion_matrix = metrics.confusion_matrix(test_targets, y_pred_bool)\n",
    "\n",
    "cm_display = metrics.ConfusionMatrixDisplay(confusion_matrix = confusion_matrix, display_labels = [0, 1])\n",
    "\n",
    "cm_display.plot()\n",
    "plt.show()"
   ]
  },
  {
   "cell_type": "code",
   "execution_count": 22,
   "id": "6fec0e6c-050d-4067-82f7-1d191793651b",
   "metadata": {},
   "outputs": [
    {
     "name": "stdout",
     "output_type": "stream",
     "text": [
      "تعداد موارد مثبت: 1245\n",
      "تعداد موارد منفی: 27236\n"
     ]
    }
   ],
   "source": [
    "num_positives = np.sum(y_pred_bool == 1)\n",
    "num_negatives = np.sum(y_pred_bool == 0)\n",
    "\n",
    "print(\"تعداد موارد مثبت:\", num_positives)\n",
    "print(\"تعداد موارد منفی:\", num_negatives)"
   ]
  },
  {
   "cell_type": "code",
   "execution_count": 23,
   "id": "28db71d2-6323-48df-844f-d96eed187f8e",
   "metadata": {},
   "outputs": [
    {
     "data": {
      "text/plain": [
       "array([0, 0, 0, ..., 1, 0, 0])"
      ]
     },
     "execution_count": 23,
     "metadata": {},
     "output_type": "execute_result"
    }
   ],
   "source": [
    "y_pred_bool"
   ]
  },
  {
   "cell_type": "code",
   "execution_count": 24,
   "id": "b5a18f2b-6d40-46ea-9148-2d0844eb7c09",
   "metadata": {},
   "outputs": [
    {
     "name": "stdout",
     "output_type": "stream",
     "text": [
      "446/446 [==============================] - 0s 538us/step\n",
      "              precision    recall  f1-score   support\n",
      "\n",
      "           0       1.00      1.00      1.00     28426\n",
      "           1       0.88      0.82      0.85        55\n",
      "\n",
      "    accuracy                           1.00     28481\n",
      "   macro avg       0.94      0.91      0.92     28481\n",
      "weighted avg       1.00      1.00      1.00     28481\n",
      "\n"
     ]
    }
   ],
   "source": [
    "y_pred = model.predict(test_features, batch_size=64, verbose=1)\n",
    "y_pred_bool = np.argmax(y_pred, axis=1)\n",
    "print(classification_report(test_targets, y_pred_bool))"
   ]
  },
  {
   "cell_type": "code",
   "execution_count": 25,
   "id": "af3a7c57-ea96-4bcb-9653-6f206a41053a",
   "metadata": {},
   "outputs": [
    {
     "data": {
      "image/png": "[encoded data removed]",
      "text/plain": [
       "<Figure size 640x480 with 2 Axes>"
      ]
     },
     "metadata": {},
     "output_type": "display_data"
    }
   ],
   "source": [
    "confusion_matrix = metrics.confusion_matrix(test_targets, y_pred_bool)\n",
    "\n",
    "cm_display = metrics.ConfusionMatrixDisplay(confusion_matrix = confusion_matrix, display_labels = [0, 1])\n",
    "\n",
    "cm_display.plot()\n",
    "plt.show()"
   ]
  },
  {
   "cell_type": "code",
   "execution_count": 26,
   "id": "77e4e6a6-0544-4153-973d-f458329cc56f",
   "metadata": {},
   "outputs": [
    {
     "name": "stdout",
     "output_type": "stream",
     "text": [
      "تعداد موارد مثبت: 51\n",
      "تعداد موارد منفی: 28430\n"
     ]
    }
   ],
   "source": [
    "num_positives = np.sum(y_pred_bool == 1)\n",
    "num_negatives = np.sum(y_pred_bool == 0)\n",
    "\n",
    "print(\"تعداد موارد مثبت:\", num_positives)\n",
    "print(\"تعداد موارد منفی:\", num_negatives)"
   ]
  },
  {
   "cell_type": "code",
   "execution_count": null,
   "id": "b4a8e2f6-ccba-4384-aa6b-243e94fcb324",
   "metadata": {},
   "outputs": [],
   "source": []
  }
 ],
 "metadata": {
  "kernelspec": {
   "display_name": "Python 3 (ipykernel)",
   "language": "python",
   "name": "python3"
  },
  "language_info": {
   "codemirror_mode": {
    "name": "ipython",
    "version": 3
   },
   "file_extension": ".py",
   "mimetype": "text/x-python",
   "name": "python",
   "nbconvert_exporter": "python",
   "pygments_lexer": "ipython3",
   "version": "3.11.8"
  }
 },
 "nbformat": 4,
 "nbformat_minor": 5
}
